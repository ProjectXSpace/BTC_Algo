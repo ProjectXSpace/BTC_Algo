{
 "cells": [
  {
   "cell_type": "code",
   "execution_count": 1,
   "metadata": {
    "ExecuteTime": {
     "end_time": "2024-01-13T10:24:48.180298Z",
     "start_time": "2024-01-13T10:24:36.178556Z"
    }
   },
   "outputs": [],
   "source": [
    "from preprocessing import get_features_and_target\n",
    "import tensorflow as tf"
   ]
  },
  {
   "cell_type": "markdown",
   "metadata": {},
   "source": [
    "# LSTM regression on returns"
   ]
  },
  {
   "cell_type": "markdown",
   "metadata": {},
   "source": [
    "# Preprocessing regression\n"
   ]
  },
  {
   "cell_type": "code",
   "execution_count": 2,
   "metadata": {
    "ExecuteTime": {
     "end_time": "2024-01-13T10:25:03.202560Z",
     "start_time": "2024-01-13T10:25:03.015693Z"
    }
   },
   "outputs": [
    {
     "name": "stdout",
     "output_type": "stream",
     "text": [
      "Feature Vector (First Sample): [4420.938888888886, 4152.906500000001, 4191.1688, 66.87214553327276, 4807.149201091096, 3498.663798908906, 21.528928376788606, 69.37933985620802, 1357.992566, 4499.99, 89.40502723788764, 76.60420953763918, 0.0, 100.0]\n",
      "Target (First Sample): tf.Tensor(-0.0008126259935865576, shape=(), dtype=float64)\n"
     ]
    },
    {
     "name": "stderr",
     "output_type": "stream",
     "text": [
      "2024-01-13 10:25:03.042499: I metal_plugin/src/device/metal_device.cc:1154] Metal device set to: Apple M2 Pro\n",
      "2024-01-13 10:25:03.042521: I metal_plugin/src/device/metal_device.cc:296] systemMemory: 16.00 GB\n",
      "2024-01-13 10:25:03.042529: I metal_plugin/src/device/metal_device.cc:313] maxCacheSize: 5.33 GB\n",
      "2024-01-13 10:25:03.042593: I tensorflow/core/common_runtime/pluggable_device/pluggable_device_factory.cc:306] Could not identify NUMA node of platform GPU ID 0, defaulting to 0. Your kernel may not have been built with NUMA support.\n",
      "2024-01-13 10:25:03.042636: I tensorflow/core/common_runtime/pluggable_device/pluggable_device_factory.cc:272] Created TensorFlow device (/job:localhost/replica:0/task:0/device:GPU:0 with 0 MB memory) -> physical PluggableDevice (device: 0, name: METAL, pci bus id: <undefined>)\n"
     ]
    },
    {
     "data": {
      "text/plain": [
       "(BTC:USDT_sma_9                  4420.938889\n",
       " BTC:USDT_sma_20                 4152.906500\n",
       " BTC:USDT_sma_50                 4191.168800\n",
       " BTC:USDT_rsi                      66.872146\n",
       " BTC:USDT_bollinger_up           4807.149201\n",
       " BTC:USDT_bollinger_down         3498.663799\n",
       " BTC:USDT_adx                      21.528928\n",
       " BTC:USDT_macd_diff                69.379340\n",
       " BTC:USDT_obv                    1357.992566\n",
       " BTC:USDT_ichimoku_conversion    4499.990000\n",
       " BTC:USDT_stochastic_k             89.405027\n",
       " BTC:USDT_stochastic_d             76.604210\n",
       " BTC:USDT_aroon_up                  0.000000\n",
       " BTC:USDT_aroon_down              100.000000\n",
       " Name: 2017-10-09 00:00:00, dtype: float64,\n",
       " -0.0008126259935865576)"
      ]
     },
     "execution_count": 2,
     "metadata": {},
     "output_type": "execute_result"
    }
   ],
   "source": [
    "symbol = \"BTC/USDT\"\n",
    "feature_lags = []\n",
    "valid_split = 200\n",
    "train_length = 5\n",
    "batch_size = 32\n",
    "seed = 44\n",
    "\n",
    "df = get_features_and_target(\n",
    "    symbol,\n",
    "    steps_to_forecast=1,\n",
    "    feature_lags=feature_lags,\n",
    "    model_type=\"reg\",\n",
    "    model_freq=\"1d\",\n",
    ")\n",
    "\n",
    "symbol = symbol.replace(\"/\", \":\")\n",
    "\n",
    "X = df.drop(columns=f\"{symbol}_target\")\n",
    "\n",
    "y = df[f\"{symbol}_target\"].copy()\n",
    "\n",
    "X_train, X_valid, y_train, y_valid = (\n",
    "    X[:-valid_split],\n",
    "    X[-valid_split:],\n",
    "    y[:-valid_split],\n",
    "    y[-valid_split:],\n",
    ")\n",
    "\n",
    "train_df = tf.keras.utils.timeseries_dataset_from_array(\n",
    "    X_train,\n",
    "    targets=y_train.iloc[(train_length - 1) :],\n",
    "    sequence_length=train_length,\n",
    "    batch_size=batch_size,\n",
    "    shuffle=False,\n",
    "    seed=seed,\n",
    ")\n",
    "\n",
    "valid_df = tf.keras.utils.timeseries_dataset_from_array(\n",
    "    X_valid,\n",
    "    targets=y_valid.iloc[(train_length - 1) :],\n",
    "    sequence_length=train_length,\n",
    "    batch_size=batch_size,\n",
    "    shuffle=False,\n",
    "    seed=seed,\n",
    ")\n",
    "\n",
    "for X_batch, y_batch in train_df.take(1):\n",
    "    # Extract the first sample from the batch\n",
    "    first_sample_features = X_batch[0][-1].numpy().tolist()\n",
    "    first_sample_target = y_batch[0]\n",
    "\n",
    "    # Print the feature vector and its corresponding target\n",
    "    print(\"Feature Vector (First Sample):\", first_sample_features)\n",
    "    print(\"Target (First Sample):\", first_sample_target)\n",
    "    break  # Exit after processing the first batch\n",
    "\n",
    "X_train.iloc[4], y_train.iloc[4]"
   ]
  },
  {
   "cell_type": "markdown",
   "metadata": {},
   "source": [
    "# Regression Model "
   ]
  },
  {
   "cell_type": "code",
   "execution_count": 8,
   "metadata": {},
   "outputs": [],
   "source": [
    "import tensorflow as tf\n",
    "from tensorflow.keras import regularizers\n",
    "\n",
    "\n",
    "class LSTMregression(tf.keras.Model):\n",
    "    def __init__(self, num_units=30, activation=\"relu\", **kwargs):\n",
    "        super().__init__(**kwargs)\n",
    "\n",
    "        self.norm_layer = tf.keras.layers.Normalization()\n",
    "        self.conv1 = tf.keras.layers.Conv1D(\n",
    "            filters=num_units * 2,\n",
    "            kernel_size=2,\n",
    "            strides=1,\n",
    "            padding=\"causal\",\n",
    "            activation=activation,\n",
    "        )\n",
    "        self.lstm1 = tf.keras.layers.Bidirectional(\n",
    "            tf.keras.layers.LSTM(num_units, return_sequences=True, stateful=False)\n",
    "        )\n",
    "        self.lstm2 = tf.keras.layers.Bidirectional(\n",
    "            tf.keras.layers.LSTM(num_units, return_sequences=True, stateful=False)\n",
    "        )\n",
    "        self.layer_norm = tf.keras.layers.LayerNormalization()\n",
    "        self.dense = tf.keras.layers.Dense(\n",
    "            num_units,\n",
    "            activation=activation,\n",
    "            kernel_initializer=\"he_normal\",\n",
    "            kernel_regularizer=regularizers.l2(0.01),\n",
    "        )\n",
    "        self.dropout = tf.keras.layers.Dropout(0.2)\n",
    "        self.output_layer = tf.keras.layers.Dense(1)\n",
    "\n",
    "    def call(self, inputs):\n",
    "        x = self.norm_layer(inputs)\n",
    "        x = self.conv1(x)\n",
    "        x = self.lstm1(x)\n",
    "        x = self.layer_norm(x)\n",
    "        x = self.lstm2(x)\n",
    "        x = self.layer_norm(x)\n",
    "        x = self.dense(x)\n",
    "        x = self.dropout(x)\n",
    "        return self.output_layer(x)\n",
    "\n",
    "\n",
    "model = LSTMregression()\n",
    "\n",
    "# Adapt normalization layer\n",
    "model.norm_layer.adapt(X_train)\n",
    "\n",
    "# Compile the model\n",
    "model.compile(optimizer=\"adam\", loss=\"mse\", metrics=[\"mae\", \"RootMeanSquaredError\"])"
   ]
  },
  {
   "cell_type": "code",
   "execution_count": null,
   "metadata": {},
   "outputs": [],
   "source": [
    "# Callbacks\n",
    "tf.keras.backend.clear_session()\n",
    "early_stopping = tf.keras.callbacks.EarlyStopping(\n",
    "    patience=3, monitor=\"val_mae\", restore_best_weights=True\n",
    ")\n",
    "tensorboard = tf.keras.callbacks.TensorBoard(\"TB_regression_logs\")\n",
    "reduce_lr = tf.keras.callbacks.ReduceLROnPlateau(\n",
    "    monitor=\"val_mae\",\n",
    "    factor=0.5,  # Reduce learning rate by half\n",
    "    patience=1,  # Number of epochs with no improvement\n",
    "    min_lr=0.0001,  # Minimum learning rate\n",
    ")\n",
    "history = model.fit(\n",
    "    train_df,\n",
    "    validation_data=valid_df,\n",
    "    callbacks=[early_stopping, tensorboard, reduce_lr],\n",
    "    epochs=50,\n",
    ")"
   ]
  },
  {
   "cell_type": "code",
   "execution_count": 11,
   "metadata": {},
   "outputs": [],
   "source": [
    "model.save(\"last_regression_model.keras\")  # Save regression the model"
   ]
  },
  {
   "cell_type": "markdown",
   "metadata": {},
   "source": [
    "# Classification model"
   ]
  },
  {
   "cell_type": "code",
   "execution_count": 45,
   "metadata": {},
   "outputs": [
    {
     "name": "stdout",
     "output_type": "stream",
     "text": [
      "Model: \"lst_mclassification_12\"\n",
      "_________________________________________________________________\n",
      " Layer (type)                Output Shape              Param #   \n",
      "=================================================================\n",
      " normalization_13 (Normaliz  multiple                  31        \n",
      " ation)                                                          \n",
      "                                                                 \n",
      " conv1d_13 (Conv1D)          multiple                  1860      \n",
      "                                                                 \n",
      " bidirectional_26 (Bidirect  multiple                  21840     \n",
      " ional)                                                          \n",
      "                                                                 \n",
      " bidirectional_27 (Bidirect  multiple                  21840     \n",
      " ional)                                                          \n",
      "                                                                 \n",
      " layer_normalization_13 (La  multiple                  120       \n",
      " yerNormalization)                                               \n",
      "                                                                 \n",
      " dense_26 (Dense)            multiple                  1830      \n",
      "                                                                 \n",
      " dropout_13 (Dropout)        multiple                  0         \n",
      "                                                                 \n",
      " dense_27 (Dense)            multiple                  93        \n",
      "                                                                 \n",
      "=================================================================\n",
      "Total params: 47614 (186.00 KB)\n",
      "Trainable params: 47583 (185.87 KB)\n",
      "Non-trainable params: 31 (128.00 Byte)\n",
      "_________________________________________________________________\n"
     ]
    }
   ],
   "source": [
    "import tensorflow as tf\n",
    "from tensorflow.keras import regularizers\n",
    "\n",
    "\n",
    "class LSTMclassification(tf.keras.Model):\n",
    "    def __init__(self, num_classes, num_units=30, activation=\"relu\", **kwargs):\n",
    "        super().__init__(**kwargs)\n",
    "\n",
    "        self.norm_layer = tf.keras.layers.Normalization()\n",
    "        self.conv1 = tf.keras.layers.Conv1D(\n",
    "            filters=num_units * 2,\n",
    "            kernel_size=2,\n",
    "            strides=1,\n",
    "            padding=\"causal\",\n",
    "            activation=activation,\n",
    "        )\n",
    "        self.lstm1 = tf.keras.layers.Bidirectional(\n",
    "            tf.keras.layers.LSTM(num_units, return_sequences=True, stateful=False)\n",
    "        )\n",
    "        self.lstm2 = tf.keras.layers.Bidirectional(\n",
    "            tf.keras.layers.LSTM(num_units, return_sequences=False, stateful=False)\n",
    "        )\n",
    "        self.layer_norm = tf.keras.layers.LayerNormalization()\n",
    "        self.dense = tf.keras.layers.Dense(\n",
    "            num_units,\n",
    "            activation=activation,\n",
    "            kernel_initializer=\"he_normal\",\n",
    "            kernel_regularizer=regularizers.l2(0.01),\n",
    "        )\n",
    "        self.dropout = tf.keras.layers.Dropout(0.2)\n",
    "        self.output_layer = tf.keras.layers.Dense(num_classes, activation=\"softmax\")\n",
    "\n",
    "    def call(self, inputs):\n",
    "        x = self.norm_layer(inputs)\n",
    "        x = self.conv1(x)\n",
    "        x = self.lstm1(x)\n",
    "        x = self.layer_norm(x)\n",
    "        x = self.lstm2(x)\n",
    "        x = self.dense(x)\n",
    "        x = self.dropout(x)\n",
    "        return self.output_layer(x)\n",
    "\n",
    "\n",
    "# Assuming df, X_train, and num_classes are already defined\n",
    "num_features = len(df.columns) - 1\n",
    "model = LSTMclassification(num_classes=3, num_units=30)\n",
    "\n",
    "# Adapt normalization layer\n",
    "model.norm_layer.adapt(X_train)\n",
    "\n",
    "model.build(input_shape=(batch_size, train_length, num_features))\n",
    "\n",
    "# Compile the model\n",
    "model.compile(\n",
    "    optimizer=\"adam\",\n",
    "    loss=tf.keras.losses.SparseCategoricalCrossentropy(from_logits=False),\n",
    "    metrics=[\"accuracy\", tf.keras.metrics.Precision(), tf.keras.metrics.Recall()],\n",
    ")\n",
    "\n",
    "model.summary()"
   ]
  },
  {
   "cell_type": "code",
   "execution_count": null,
   "metadata": {},
   "outputs": [],
   "source": [
    "from sklearn.utils import class_weight\n",
    "\n",
    "tf.keras.backend.clear_session()\n",
    "\n",
    "class_weights = class_weight.compute_class_weight(\n",
    "    \"balanced\", classes=np.unique(y_train), y=y_train\n",
    ")\n",
    "\n",
    "# Callbacks\n",
    "early_stopping = tf.keras.callbacks.EarlyStopping(\n",
    "    patience=3, monitor=\"accuracy\", restore_best_weights=True\n",
    ")\n",
    "\n",
    "tensorboard = tf.keras.callbacks.TensorBoard(\"TB_classification_logs\")\n",
    "reduce_lr = tf.keras.callbacks.ReduceLROnPlateau(\n",
    "    monitor=\"accuracy\",\n",
    "    factor=0.5,  # Reduce learning rate by half\n",
    "    patience=1,  # Number of epochs with no improvement\n",
    "    min_lr=0.0001,  # Minimum learning rate\n",
    ")\n",
    "model.fit(\n",
    "    train_df,\n",
    "    validation_data=valid_df,\n",
    "    callbacks=[early_stopping, tensorboard, reduce_lr],\n",
    "    epochs=1,\n",
    "    class_weight=class_weights,\n",
    ")"
   ]
  },
  {
   "cell_type": "code",
   "execution_count": null,
   "metadata": {},
   "outputs": [],
   "source": [
    "model.save(\"last_classification_model.keras\")"
   ]
  }
 ],
 "metadata": {
  "kernelspec": {
   "display_name": "Python 3",
   "language": "python",
   "name": "python3"
  },
  "language_info": {
   "codemirror_mode": {
    "name": "ipython",
    "version": 3
   },
   "file_extension": ".py",
   "mimetype": "text/x-python",
   "name": "python",
   "nbconvert_exporter": "python",
   "pygments_lexer": "ipython3",
   "version": "3.11.6"
  }
 },
 "nbformat": 4,
 "nbformat_minor": 2
}
