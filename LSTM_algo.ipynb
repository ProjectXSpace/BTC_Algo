{
 "cells": [
  {
   "cell_type": "code",
   "execution_count": 6,
   "metadata": {},
   "outputs": [],
   "source": [
    "from preprocessing import get_LSTM_dfs, get_features_and_target\n",
    "import tensorflow as tf"
   ]
  },
  {
   "cell_type": "code",
   "execution_count": 9,
   "metadata": {},
   "outputs": [],
   "source": [
    "df = get_features_and_target(\n",
    "    \"BTC/USDT\", day_to_forecast=1, feature_lags=[3, 9, 16, 24], model=\"LSTM\"\n",
    ")\n",
    "X = df.drop(columns=f\"BTC:USDT_target\")\n",
    "\n",
    "train_df, valid_df = get_LSTM_dfs()"
   ]
  },
  {
   "cell_type": "code",
   "execution_count": 14,
   "metadata": {},
   "outputs": [
    {
     "name": "stdout",
     "output_type": "stream",
     "text": [
      "Model: \"model_4\"\n",
      "_________________________________________________________________\n",
      " Layer (type)                Output Shape              Param #   \n",
      "=================================================================\n",
      " input_5 (InputLayer)        [(None, None, 79)]        0         \n",
      "                                                                 \n",
      " conv1d_4 (Conv1D)           (None, None, 60)          23760     \n",
      "                                                                 \n",
      " bidirectional_8 (Bidirecti  (None, None, 60)          21840     \n",
      " onal)                                                           \n",
      "                                                                 \n",
      " bidirectional_9 (Bidirecti  (None, None, 40)          12960     \n",
      " onal)                                                           \n",
      "                                                                 \n",
      " dense_8 (Dense)             (None, None, 60)          2460      \n",
      "                                                                 \n",
      " dropout_4 (Dropout)         (None, None, 60)          0         \n",
      "                                                                 \n",
      " dense_9 (Dense)             (None, None, 1)           61        \n",
      "                                                                 \n",
      "=================================================================\n",
      "Total params: 61081 (238.60 KB)\n",
      "Trainable params: 61081 (238.60 KB)\n",
      "Non-trainable params: 0 (0.00 Byte)\n",
      "_________________________________________________________________\n"
     ]
    }
   ],
   "source": [
    "conv1 = tf.keras.layers.Conv1D(\n",
    "    filters=60,\n",
    "    kernel_size=5,\n",
    "    strides=1,\n",
    "    padding=\"causal\",\n",
    "    activation=\"relu\",\n",
    "    input_shape=[None, len(X.columns)],\n",
    ")\n",
    "\n",
    "# Bidirectional LSTM tf.keras.layers\n",
    "lstm1 = tf.keras.layers.Bidirectional(tf.keras.layers.LSTM(30, return_sequences=True))\n",
    "lstm2 = tf.keras.layers.Bidirectional(tf.keras.layers.LSTM(20, return_sequences=True))\n",
    "\n",
    "# Model construction\n",
    "inputs = tf.keras.layers.Input(shape=(None, len(X.columns)))\n",
    "x = conv1(inputs)\n",
    "x = lstm1(x)\n",
    "x = lstm2(x)\n",
    "x = tf.keras.layers.Dense(60, activation=\"relu\")(x)\n",
    "x = tf.keras.layers.Dropout(0.25)(x)\n",
    "outputs = tf.keras.layers.Dense(1)(x)\n",
    "\n",
    "# SGD optimizer and Huber loss\n",
    "optimizer = tf.keras.optimizers.legacy.SGD(\n",
    "    learning_rate=1e-5, momentum=0.9, nesterov=True\n",
    ")\n",
    "loss = tf.keras.losses.Huber()\n",
    "\n",
    "model = tf.keras.Model(inputs=inputs, outputs=outputs)\n",
    "model.compile(optimizer, loss, metrics=[\"mae\"])\n",
    "model.summary()"
   ]
  },
  {
   "cell_type": "code",
   "execution_count": null,
   "metadata": {},
   "outputs": [],
   "source": [
    "early_stopping = tf.keras.callbacks.EarlyStopping(patience=5)\n",
    "tensorboard = tf.keras.callbacks.TensorBoard(\"tensorboard_logs\")\n",
    "\n",
    "model.fit(\n",
    "    train_df,\n",
    "    validation_data=valid_df,\n",
    "    callbacks=[early_stopping, tensorboard],\n",
    "    epochs=50,\n",
    ")\n",
    "\n"
   ]
  }
 ],
 "metadata": {
  "kernelspec": {
   "display_name": "Python 3",
   "language": "python",
   "name": "python3"
  },
  "language_info": {
   "codemirror_mode": {
    "name": "ipython",
    "version": 3
   },
   "file_extension": ".py",
   "mimetype": "text/x-python",
   "name": "python",
   "nbconvert_exporter": "python",
   "pygments_lexer": "ipython3",
   "version": "3.11.6"
  }
 },
 "nbformat": 4,
 "nbformat_minor": 2
}
