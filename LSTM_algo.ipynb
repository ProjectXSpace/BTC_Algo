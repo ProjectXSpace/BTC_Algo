{
 "cells": [
  {
   "cell_type": "code",
   "execution_count": 1,
   "metadata": {},
   "outputs": [],
   "source": [
    "from preprocessing import get_LSTM_dfs, get_features_and_target\n",
    "import tensorflow as tf"
   ]
  },
  {
   "cell_type": "code",
   "execution_count": 2,
   "metadata": {},
   "outputs": [
    {
     "name": "stdout",
     "output_type": "stream",
     "text": [
      "Train batch X shape: (32, 48, 15)\n",
      "Train batch y shape: (32,)\n"
     ]
    },
    {
     "name": "stderr",
     "output_type": "stream",
     "text": [
      "2023-11-19 23:27:14.324963: I metal_plugin/src/device/metal_device.cc:1154] Metal device set to: Apple M2 Pro\n",
      "2023-11-19 23:27:14.324985: I metal_plugin/src/device/metal_device.cc:296] systemMemory: 16.00 GB\n",
      "2023-11-19 23:27:14.324989: I metal_plugin/src/device/metal_device.cc:313] maxCacheSize: 5.33 GB\n",
      "2023-11-19 23:27:14.325016: I tensorflow/core/common_runtime/pluggable_device/pluggable_device_factory.cc:306] Could not identify NUMA node of platform GPU ID 0, defaulting to 0. Your kernel may not have been built with NUMA support.\n",
      "2023-11-19 23:27:14.325030: I tensorflow/core/common_runtime/pluggable_device/pluggable_device_factory.cc:272] Created TensorFlow device (/job:localhost/replica:0/task:0/device:GPU:0 with 0 MB memory) -> physical PluggableDevice (device: 0, name: METAL, pci bus id: <undefined>)\n"
     ]
    }
   ],
   "source": [
    "symbol = \"BTC/USDT\"\n",
    "feature_lags = []\n",
    "\n",
    "df = get_features_and_target(\n",
    "    symbol, day_to_forecast=1, feature_lags=feature_lags, model=\"LSTM\"\n",
    ")\n",
    "\n",
    "train_df, valid_df = get_LSTM_dfs(valid_split=2000, feature_lags=[])\n",
    "\n",
    "for X_batch, y_batch in train_df.take(1):\n",
    "    print(\"Train batch X shape:\", X_batch.shape)\n",
    "    print(\"Train batch y shape:\", y_batch.shape)  # starts from y.iloc[48]"
   ]
  },
  {
   "cell_type": "code",
   "execution_count": 5,
   "metadata": {},
   "outputs": [
    {
     "name": "stderr",
     "output_type": "stream",
     "text": [
      "WARNING:absl:At this time, the v2.11+ optimizer `tf.keras.optimizers.AdamW` runs slowly on M1/M2 Macs, please use the legacy Keras optimizer instead, located at `tf.keras.optimizers.legacy.AdamW`.\n"
     ]
    },
    {
     "name": "stdout",
     "output_type": "stream",
     "text": [
      "Model: \"model\"\n",
      "_________________________________________________________________\n",
      " Layer (type)                Output Shape              Param #   \n",
      "=================================================================\n",
      " input_1 (InputLayer)        [(None, None, 15)]        0         \n",
      "                                                                 \n",
      " conv1d (Conv1D)             (None, None, 60)          2760      \n",
      "                                                                 \n",
      " bidirectional (Bidirection  (None, None, 60)          21840     \n",
      " al)                                                             \n",
      "                                                                 \n",
      " bidirectional_1 (Bidirecti  (None, None, 60)          21840     \n",
      " onal)                                                           \n",
      "                                                                 \n",
      " dropout (Dropout)           (None, None, 60)          0         \n",
      "                                                                 \n",
      " dense (Dense)               (None, None, 60)          3660      \n",
      "                                                                 \n",
      " dropout_1 (Dropout)         (None, None, 60)          0         \n",
      "                                                                 \n",
      " dense_1 (Dense)             (None, None, 1)           61        \n",
      "                                                                 \n",
      "=================================================================\n",
      "Total params: 50161 (195.94 KB)\n",
      "Trainable params: 50161 (195.94 KB)\n",
      "Non-trainable params: 0 (0.00 Byte)\n",
      "_________________________________________________________________\n"
     ]
    }
   ],
   "source": [
    "tf.keras.backend.clear_session()\n",
    "\n",
    "conv1 = tf.keras.layers.Conv1D(\n",
    "    filters=60,\n",
    "    kernel_size=3,\n",
    "    strides=1,\n",
    "    padding=\"causal\",\n",
    "    activation=\"relu\",\n",
    "    input_shape=[None, len(df.columns) - 1],\n",
    ")\n",
    "\n",
    "# Bidirectional LSTM tf.keras.layers\n",
    "lstm1 = tf.keras.layers.Bidirectional(tf.keras.layers.LSTM(30, return_sequences=True))\n",
    "lstm2 = tf.keras.layers.Bidirectional(tf.keras.layers.LSTM(30, return_sequences=True))\n",
    "\n",
    "# Model construction\n",
    "inputs = tf.keras.layers.Input(shape=(None, len(df.columns) - 1))\n",
    "x = conv1(inputs)\n",
    "x = lstm1(x)\n",
    "x = lstm2(x)\n",
    "x = tf.keras.layers.Dropout(0.1)(x)\n",
    "x = tf.keras.layers.Dense(60, activation=\"relu\", kernel_initializer=\"he_normal\")(x)\n",
    "x = tf.keras.layers.Dropout(0.1)(x)\n",
    "outputs = tf.keras.layers.Dense(1)(x)\n",
    "\n",
    "# SGD optimizer and Huber loss\n",
    "optimizer = tf.keras.optimizers.legacy.SGD(\n",
    "    learning_rate=0.001, momentum=0.9, nesterov=True\n",
    ")\n",
    "adam_opt = tf.keras.optimizers.AdamW(learning_rate=0.001)\n",
    "\n",
    "huber_loss = tf.keras.losses.Huber()\n",
    "mse_loss = \"mse\"\n",
    "\n",
    "model = tf.keras.Model(inputs=inputs, outputs=outputs)\n",
    "model.compile(\n",
    "    optimizer=adam_opt, loss=mse_loss, metrics=[\"mae\", \"RootMeanSquaredError\"]\n",
    ")\n",
    "model.summary()"
   ]
  },
  {
   "cell_type": "code",
   "execution_count": 6,
   "metadata": {},
   "outputs": [
    {
     "name": "stdout",
     "output_type": "stream",
     "text": [
      "Epoch 1/50\n"
     ]
    },
    {
     "name": "stderr",
     "output_type": "stream",
     "text": [
      "2023-11-19 23:30:20.554017: I tensorflow/core/grappler/optimizers/custom_graph_optimizer_registry.cc:117] Plugin optimizer for device_type GPU is enabled.\n"
     ]
    },
    {
     "name": "stdout",
     "output_type": "stream",
     "text": [
      "1540/1540 [==============================] - 98s 60ms/step - loss: 0.0022 - mae: 0.0300 - root_mean_squared_error: 0.0464 - val_loss: 4.8725e-04 - val_mae: 0.0134 - val_root_mean_squared_error: 0.0221 - lr: 0.0010\n",
      "Epoch 2/50\n",
      "1540/1540 [==============================] - 93s 61ms/step - loss: 0.0017 - mae: 0.0274 - root_mean_squared_error: 0.0411 - val_loss: 4.8643e-04 - val_mae: 0.0134 - val_root_mean_squared_error: 0.0221 - lr: 0.0010\n",
      "Epoch 3/50\n",
      "1540/1540 [==============================] - 93s 60ms/step - loss: 0.0017 - mae: 0.0274 - root_mean_squared_error: 0.0411 - val_loss: 4.8624e-04 - val_mae: 0.0134 - val_root_mean_squared_error: 0.0221 - lr: 0.0010\n",
      "Epoch 4/50\n",
      "1540/1540 [==============================] - 92s 60ms/step - loss: 0.0017 - mae: 0.0273 - root_mean_squared_error: 0.0410 - val_loss: 4.8448e-04 - val_mae: 0.0137 - val_root_mean_squared_error: 0.0220 - lr: 5.0000e-04\n",
      "Epoch 5/50\n",
      "1540/1540 [==============================] - 92s 60ms/step - loss: 0.0017 - mae: 0.0273 - root_mean_squared_error: 0.0410 - val_loss: 4.8118e-04 - val_mae: 0.0134 - val_root_mean_squared_error: 0.0219 - lr: 5.0000e-04\n"
     ]
    },
    {
     "data": {
      "text/plain": [
       "<keras.src.callbacks.History at 0x2b3e73090>"
      ]
     },
     "execution_count": 6,
     "metadata": {},
     "output_type": "execute_result"
    }
   ],
   "source": [
    "# Callbacks\n",
    "early_stopping = tf.keras.callbacks.EarlyStopping(\n",
    "    patience=3, monitor=\"val_mae\", restore_best_weights=True\n",
    ")\n",
    "tensorboard = tf.keras.callbacks.TensorBoard(\"tensorboard_logs\")\n",
    "reduce_lr = tf.keras.callbacks.ReduceLROnPlateau(\n",
    "    monitor=\"val_mae\",\n",
    "    factor=0.5,  # Reduce learning rate by half\n",
    "    patience=2,  # Number of epochs with no improvement\n",
    "    min_lr=0.0001,  # Minimum learning rate\n",
    ")\n",
    "model.fit(\n",
    "    train_df,\n",
    "    validation_data=valid_df,\n",
    "    callbacks=[early_stopping, tensorboard, reduce_lr],\n",
    "    epochs=50,\n",
    ")"
   ]
  },
  {
   "cell_type": "code",
   "execution_count": 7,
   "metadata": {},
   "outputs": [
    {
     "name": "stderr",
     "output_type": "stream",
     "text": [
      "/Library/Frameworks/Python.framework/Versions/3.11/lib/python3.11/site-packages/keras/src/engine/training.py:3079: UserWarning: You are saving your model as an HDF5 file via `model.save()`. This file format is considered legacy. We recommend using instead the native Keras format, e.g. `model.save('my_model.keras')`.\n",
      "  saving_api.save_model(\n"
     ]
    }
   ],
   "source": [
    "model.save(\"last_model.h5\")  # Save the model"
   ]
  }
 ],
 "metadata": {
  "kernelspec": {
   "display_name": "Python 3",
   "language": "python",
   "name": "python3"
  },
  "language_info": {
   "codemirror_mode": {
    "name": "ipython",
    "version": 3
   },
   "file_extension": ".py",
   "mimetype": "text/x-python",
   "name": "python",
   "nbconvert_exporter": "python",
   "pygments_lexer": "ipython3",
   "version": "3.11.6"
  }
 },
 "nbformat": 4,
 "nbformat_minor": 2
}
